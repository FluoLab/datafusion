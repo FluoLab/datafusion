{
 "cells": [
  {
   "cell_type": "markdown",
   "metadata": {},
   "source": [
    "## Plot data"
   ]
  },
  {
   "cell_type": "code",
   "execution_count": null,
   "metadata": {},
   "outputs": [],
   "source": [
    "from pathlib import Path\n",
    "import warnings\n",
    "\n",
    "import h5py\n",
    "import numpy as np\n",
    "import scipy as sp\n",
    "from scipy.optimize import curve_fit\n",
    "import skimage as ski\n",
    "import matplotlib.pyplot as plt\n",
    "plt.rcParams['text.usetex'] = True\n",
    "plt.rcParams.update({'font.size': 12})\n",
    "import os\n",
    "\n",
    "from fusion import optimize\n",
    "from utils import hyperspectral2RGB, hyperspectral2RGBvolume, bin_data\n",
    "from utils import RESOURCES_PATH\n",
    "from ipywidgets import interact\n",
    "\n",
    "RESOURCES_PATH = Path(\"/Users/federicosimoni/Library/Mobile Documents/com~apple~CloudDocs/Università/Tesi/Code/CS-FLIM_lab/20240703/kidney\")\n",
    "\n",
    "DATA_PATH = RESOURCES_PATH / \"520_kidney2_550_550_610_SPC_raw_proc_tlxy_256x256.npz\""
   ]
  },
  {
   "cell_type": "code",
   "execution_count": null,
   "metadata": {},
   "outputs": [],
   "source": [
    "data = np.load(DATA_PATH)\n",
    "x = data['x']\n",
    "t = data['t']\n",
    "lam = data['lam']\n",
    "\n",
    "XY_DIM = x.shape[-1]\n",
    "zoom_factor = 8\n",
    "x = x[:, :, :, XY_DIM // 2 - XY_DIM // zoom_factor:XY_DIM // 2 + XY_DIM // zoom_factor,\n",
    "            XY_DIM // 2 - XY_DIM // zoom_factor:XY_DIM // 2 + XY_DIM // zoom_factor]\n",
    "\n",
    "slices_rgb = hyperspectral2RGBvolume(lam, np.mean(x, axis=0))\n",
    "\n",
    "means_spectrums = np.mean(x, axis=(0, 3, 4)).T\n",
    "min_mean_spectrum = np.min(means_spectrums)\n",
    "max_mean_spectrum = np.max(means_spectrums)\n",
    "\n",
    "means_times = np.mean(x, axis=(1, 3, 4)).T\n",
    "min_mean_times = np.min(means_times)\n",
    "max_mean_times = np.max(means_times)\n",
    "\n",
    "zxy = np.sum(x, axis=(0, 1))\n",
    "zxy /= zxy.max()\n",
    "\n",
    "def plot_across_z(index_z=0):\n",
    "    _, ax = plt.subplots(2, 2, figsize=(8, 8))\n",
    "    ax[0, 0].imshow(zxy[index_z], cmap=\"gray\", vmin=0, vmax=1)\n",
    "    ax[0, 0].set_title(f\"Fused image, z={index_z}\")\n",
    "\n",
    "    ax[0, 1].imshow(slices_rgb[index_z])\n",
    "    ax[0, 1].set_title(f\"Colored with spectrum\")\n",
    "\n",
    "    ax[1, 0].plot(lam, means_spectrums[index_z])\n",
    "    ax[1, 0].set_ylim(min_mean_spectrum, max_mean_spectrum)\n",
    "    ax[1, 0].set_title(f\"Fused Spectrum, z={index_z}\")\n",
    "    ax[1, 0].grid()\n",
    "\n",
    "    ax[1, 1].plot(t, means_times[index_z])\n",
    "    ax[1, 1].set_ylim(min_mean_times, max_mean_times)\n",
    "    ax[1, 1].set_title(f\"Fused Time, z={index_z} - {len(t)} temporal points\")\n",
    "    ax[1, 1].grid()\n",
    "\n",
    "    plt.tight_layout()\n",
    "    plt.savefig('prova.pdf', format='pdf')\n",
    "    plt.show()\n",
    "\n",
    "\n",
    "interact(plot_across_z, index_z=(0, len(zxy) - 1, 1));"
   ]
  },
  {
   "cell_type": "code",
   "execution_count": null,
   "metadata": {},
   "outputs": [],
   "source": [
    "z_index = np.argmax(means_spectrums.mean(axis=1))\n",
    "\n",
    "reconstructed_spectrums = np.mean(x[:,:,z_index,:,:], axis=(0))\n",
    "min_spectrums, max_spectrums = np.min(reconstructed_spectrums), np.max(reconstructed_spectrums)\n",
    "\n",
    "reconstructed_times = np.mean(x[:,:,z_index,:,:], axis=(1))\n",
    "min_times, max_times = np.min(reconstructed_times), np.max(reconstructed_times)\n",
    "\n",
    "def reconstructed_spectrum_time_in_a_point(i=0, j=0):\n",
    "    _, ax = plt.subplots(1, 3, figsize=(12, 4))\n",
    "    ax[0].imshow(slices_rgb[z_index])\n",
    "    ax[0].scatter([j], [i], c=\"b\")\n",
    "    ax[0].set_title(f\"Colored with spectrum\")\n",
    "    \n",
    "    ax[1].plot(lam, reconstructed_spectrums[:, i, j])\n",
    "    ax[1].set_title(f\"Spectrum in ({i},{j})\")\n",
    "    ax[1].set_ylim(min_spectrums, max_spectrums)\n",
    "    ax[1].grid()\n",
    "    \n",
    "    ax[2].plot(t, reconstructed_times[:, i, j])\n",
    "    ax[2].set_title(f\"Time in ({i},{j})\")\n",
    "    ax[2].set_ylim(min_times, max_times)\n",
    "    ax[2].grid()\n",
    "    \n",
    "    plt.tight_layout()\n",
    "    plt.show()\n",
    "    \n",
    "interact(reconstructed_spectrum_time_in_a_point, i=(0, x.shape[-2], 1), j=(0, x.shape[-1], 1));"
   ]
  },
  {
   "cell_type": "markdown",
   "metadata": {},
   "source": [
    "## Convert as Matlab file"
   ]
  },
  {
   "cell_type": "code",
   "execution_count": null,
   "metadata": {},
   "outputs": [],
   "source": [
    "# save = True\n",
    "# if (save):\n",
    "#     mdic = {\"x\": x, \"t\":t, \"lam\":lam}\n",
    "#     SAVE_PATH = RESOURCES_PATH / \"520_kidney2_550_550_610_SPC_raw_proc_tlxy_fused_64x64_512times.mat\"\n",
    "#     sp.io.savemat(SAVE_PATH, mdic)"
   ]
  },
  {
   "cell_type": "markdown",
   "metadata": {},
   "source": [
    "## Time plot"
   ]
  },
  {
   "cell_type": "code",
   "execution_count": null,
   "metadata": {},
   "outputs": [],
   "source": [
    "def func(x, a, b, c):\n",
    "    return a * np.exp(-b * x) + c\n",
    "\n",
    "time_decay = np.mean(x, axis=(1,2))[:,15,20]\n",
    "plt.plot(t, time_decay)\n",
    "\n",
    "popt, pcov = curve_fit(func, t, time_decay)\n",
    "fit1 = popt[0] * np.exp(-popt[1]*t) + popt[2]\n",
    "# fit2 = popt[3] * np.exp(-popt[4]*t) + popt[2]\n",
    "\n",
    "plt.plot(t, fit1, label='Fitted Function:\\n $y = %0.2f e^{-t/%0.2f} + %0.2f$' % (popt[0], 1/popt[1], popt[2]))\n",
    "# plt.plot(t, fit2, label='Fitted Function:\\n $y = %0.2f e^{-t/%0.2f} + %0.2f$' % (popt[3], 1/popt[4], popt[2]))\n",
    "plt.legend()\n",
    "plt.show()"
   ]
  },
  {
   "cell_type": "code",
   "execution_count": null,
   "metadata": {},
   "outputs": [],
   "source": [
    "time_plot = np.zeros((x.shape[3],x.shape[4]))\n",
    "time_decay_matrix = np.mean(x, axis=(1,2)).astype(np.float64)\n",
    "\n",
    "for i in range(x.shape[3]):\n",
    "    for j in range(x.shape[4]):\n",
    "        time_decay = time_decay_matrix[:,i,j]\n",
    "        popt, pcov = curve_fit(func, t, time_decay, maxfev=500000)\n",
    "        time_plot[i,j] = 1/popt[1]\n",
    "        \n",
    "plt.imshow(time_plot, vmin=0, vmax=4.5)\n",
    "plt.colorbar()\n",
    "plt.savefig('prova.pdf', format='pdf')\n",
    "plt.show()"
   ]
  },
  {
   "cell_type": "code",
   "execution_count": null,
   "metadata": {},
   "outputs": [],
   "source": [
    "print(time_plot[22,6])"
   ]
  },
  {
   "cell_type": "code",
   "execution_count": null,
   "metadata": {},
   "outputs": [],
   "source": [
    "SAVE_PATH = RESOURCES_PATH / \"520_kidney2_550_550_610_SPC_raw_proc_tlxy_fused_64x64_512times_plots.npz\"\n",
    "if not SAVE_PATH.is_file():\n",
    "    np.savez(SAVE_PATH, time_plot=time_plot)\n",
    "else:\n",
    "    warnings.warn(\"File name already exists!\")"
   ]
  }
 ],
 "metadata": {
  "kernelspec": {
   "display_name": "datafusion",
   "language": "python",
   "name": "python3"
  },
  "language_info": {
   "codemirror_mode": {
    "name": "ipython",
    "version": 3
   },
   "file_extension": ".py",
   "mimetype": "text/x-python",
   "name": "python",
   "nbconvert_exporter": "python",
   "pygments_lexer": "ipython3",
   "version": "3.12.0"
  }
 },
 "nbformat": 4,
 "nbformat_minor": 2
}
