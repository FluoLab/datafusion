{
 "cells": [
  {
   "cell_type": "markdown",
   "metadata": {},
   "source": [
    "## Plot data"
   ]
  },
  {
   "cell_type": "code",
   "execution_count": 7,
   "metadata": {},
   "outputs": [],
   "source": [
    "from pathlib import Path\n",
    "\n",
    "import h5py\n",
    "import numpy as np\n",
    "import scipy as sp\n",
    "import skimage as ski\n",
    "import matplotlib.pyplot as plt\n",
    "import os\n",
    "\n",
    "from fusion import optimize\n",
    "from utils import hyperspectral2RGB, hyperspectral2RGBvolume, bin_data\n",
    "from utils import RESOURCES_PATH\n",
    "from ipywidgets import interact\n",
    "\n",
    "RESOURCES_PATH = Path(\"/Users/federicosimoni/Library/Mobile Documents/com~apple~CloudDocs/Università/Tesi/Code/CS-FLIM_lab/20240703/kidney\")\n",
    "\n",
    "DATA_PATH = RESOURCES_PATH / \"520_kidney2_550_550_610_SPC_raw_proc_tlxy_fused.npz\""
   ]
  },
  {
   "cell_type": "code",
   "execution_count": 8,
   "metadata": {},
   "outputs": [
    {
     "data": {
      "application/vnd.jupyter.widget-view+json": {
       "model_id": "7bccfbbf8197472c9f718fab079a92c7",
       "version_major": 2,
       "version_minor": 0
      },
      "text/plain": [
       "interactive(children=(IntSlider(value=0, description='index_z', max=14), Output()), _dom_classes=('widget-inte…"
      ]
     },
     "metadata": {},
     "output_type": "display_data"
    }
   ],
   "source": [
    "data = np.load(DATA_PATH)\n",
    "x = data['x']\n",
    "t = data['t']\n",
    "lam = data['lam']\n",
    "\n",
    "slices_rgb = hyperspectral2RGBvolume(lam, np.mean(x, axis=0))\n",
    "\n",
    "means_spectrums = np.mean(x, axis=(0, 3, 4)).T\n",
    "min_mean_spectrum = np.min(means_spectrums)\n",
    "max_mean_spectrum = np.max(means_spectrums)\n",
    "\n",
    "means_times = np.mean(x, axis=(1, 3, 4)).T\n",
    "min_mean_times = np.min(means_times)\n",
    "max_mean_times = np.max(means_times)\n",
    "\n",
    "zxy = np.sum(x, axis=(0, 1))\n",
    "zxy /= zxy.max()\n",
    "\n",
    "def plot_across_z(index_z=0):\n",
    "    _, ax = plt.subplots(2, 2, figsize=(8, 8))\n",
    "    ax[0, 0].imshow(zxy[index_z], cmap=\"gray\", vmin=0, vmax=1)\n",
    "    ax[0, 0].set_title(f\"Fused image, z={index_z}\")\n",
    "\n",
    "    ax[0, 1].imshow(slices_rgb[index_z])\n",
    "    ax[0, 1].set_title(f\"Colored with spectrum\")\n",
    "\n",
    "    ax[1, 0].plot(lam, means_spectrums[index_z])\n",
    "    ax[1, 0].set_ylim(min_mean_spectrum, max_mean_spectrum)\n",
    "    ax[1, 0].set_title(f\"Fused Spectrum, z={index_z}\")\n",
    "    ax[1, 0].grid()\n",
    "\n",
    "    ax[1, 1].plot(t, means_times[index_z])\n",
    "    ax[1, 1].set_ylim(min_mean_times, max_mean_times)\n",
    "    ax[1, 1].set_title(f\"Fused Time, z={index_z}\")\n",
    "    ax[1, 1].grid()\n",
    "\n",
    "    plt.tight_layout()\n",
    "    plt.show()\n",
    "\n",
    "\n",
    "interact(plot_across_z, index_z=(0, len(zxy) - 1, 1));"
   ]
  },
  {
   "cell_type": "code",
   "execution_count": 9,
   "metadata": {},
   "outputs": [
    {
     "data": {
      "application/vnd.jupyter.widget-view+json": {
       "model_id": "3641c56933a54ab1a628dc6a20d3b79c",
       "version_major": 2,
       "version_minor": 0
      },
      "text/plain": [
       "interactive(children=(IntSlider(value=0, description='i', max=256), IntSlider(value=0, description='j', max=25…"
      ]
     },
     "metadata": {},
     "output_type": "display_data"
    }
   ],
   "source": [
    "reconstructed_spectrums = np.mean(x, axis=(0, 2))\n",
    "min_spectrums, max_spectrums = np.min(reconstructed_spectrums), np.max(reconstructed_spectrums)\n",
    "\n",
    "reconstructed_times = np.mean(x, axis=(1, 2))\n",
    "min_times, max_times = np.min(reconstructed_times), np.max(reconstructed_times)\n",
    "\n",
    "def reconstructed_spectrum_time_in_a_point(i=0, j=0):\n",
    "    _, ax = plt.subplots(1, 3, figsize=(12, 4))\n",
    "    z_index = np.argmax(means_spectrums.mean(axis=1))\n",
    "    ax[0].imshow(slices_rgb[z_index])\n",
    "    ax[0].scatter([j], [i], c=\"b\")\n",
    "    ax[0].set_title(f\"Colored with spectrum\")\n",
    "    \n",
    "    ax[1].plot(lam, reconstructed_spectrums[:, i, j])\n",
    "    ax[1].set_title(f\"Spectrum in ({i},{j})\")\n",
    "    ax[1].set_ylim(min_spectrums, max_spectrums)\n",
    "    ax[1].grid()\n",
    "    \n",
    "    ax[2].plot(t, reconstructed_times[:, i, j])\n",
    "    ax[2].set_title(f\"Time in ({i},{j})\")\n",
    "    ax[2].set_ylim(min_times, max_times)\n",
    "    ax[2].grid()\n",
    "    \n",
    "    plt.tight_layout()\n",
    "    plt.show()\n",
    "    \n",
    "interact(reconstructed_spectrum_time_in_a_point, i=(0, x.shape[-2], 1), j=(0, x.shape[-1], 1));"
   ]
  }
 ],
 "metadata": {
  "kernelspec": {
   "display_name": "datafusion",
   "language": "python",
   "name": "python3"
  },
  "language_info": {
   "codemirror_mode": {
    "name": "ipython",
    "version": 3
   },
   "file_extension": ".py",
   "mimetype": "text/x-python",
   "name": "python",
   "nbconvert_exporter": "python",
   "pygments_lexer": "ipython3",
   "version": "3.12.0"
  }
 },
 "nbformat": 4,
 "nbformat_minor": 2
}
