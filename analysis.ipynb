{
 "cells": [
  {
   "cell_type": "markdown",
   "id": "1e081c5df0746304",
   "metadata": {},
   "source": [
    "## Imports"
   ]
  },
  {
   "cell_type": "code",
   "execution_count": null,
   "id": "3da2b443d0c78d28",
   "metadata": {
    "ExecuteTime": {
     "end_time": "2024-07-03T13:47:51.921699Z",
     "start_time": "2024-07-03T13:47:49.956147Z"
    }
   },
   "outputs": [],
   "source": [
    "from pathlib import Path\n",
    "\n",
    "import h5py\n",
    "import numpy as np\n",
    "import scipy as sp\n",
    "import skimage as ski\n",
    "import matplotlib.pyplot as plt\n",
    "from ipywidgets import interact\n",
    "\n",
    "from fusion import optimize\n",
    "from utils import hyperspectral2RGB, hyperspectral2RGBvolume, bin_data\n",
    "from utils import RESOURCES_PATH\n",
    "\n",
    "RESOURCES_PATH = Path(\"/Users/federicosimoni/Library/Mobile Documents/com~apple~CloudDocs/Università/Tesi/Code/CS-FLIM_lab/20240703/kidney\")\n",
    "\n",
    "CMOS_PATH = RESOURCES_PATH / \"kidney2_520_4m_rec_FOVcorrected.mat\"\n",
    "SPC_PATH = RESOURCES_PATH / \"520_kidney2_550_550_610_SPC_raw_proc_tlxy.mat\"\n",
    "LAMBDA_PATH = RESOURCES_PATH / \"610_Lambda_L16.mat\"\n",
    "\n",
    "# CMOS_PATH = RESOURCES_PATH / \"kidney_cells_520_610_w4_rec_Hil2D_FOVcorrected.mat\"\n",
    "# SPC_PATH = RESOURCES_PATH / \"520_kidneyCells_550_550_610_SPC_raw_proc_tlxy.mat\"\n",
    "# LAMBDA_PATH = RESOURCES_PATH / \"610_Lambda_L16.mat\"\n",
    "\n",
    "XY_DIM = 128\n",
    "Z_START = 5\n",
    "Z_END = 20"
   ]
  },
  {
   "cell_type": "markdown",
   "id": "7c47cfea82c0e426",
   "metadata": {},
   "source": [
    "## Data loading"
   ]
  },
  {
   "cell_type": "code",
   "execution_count": null,
   "id": "6f570763e8d6f451",
   "metadata": {
    "ExecuteTime": {
     "end_time": "2024-07-03T14:55:17.897421Z",
     "start_time": "2024-07-03T14:55:10.698595Z"
    }
   },
   "outputs": [],
   "source": [
    "with h5py.File(CMOS_PATH, \"r\") as f:\n",
    "    cmos = np.array(h5py.File(CMOS_PATH)[\"I\"])\n",
    "\n",
    "if cmos.ndim == 3:\n",
    "    cmos = np.transpose(cmos, (1, 2, 0))\n",
    "    cmos = ski.transform.resize(cmos, (XY_DIM, XY_DIM, cmos.shape[2]))\n",
    "    cmos = np.transpose(cmos, (2, 1, 0))\n",
    "else:\n",
    "    cmos = ski.transform.resize(cmos, (XY_DIM, XY_DIM))\n",
    "    cmos = np.transpose(cmos, (1, 0))\n",
    "\n",
    "cmos = cmos[Z_START:Z_END]\n",
    "cmos = cmos / cmos.max()\n",
    "\n",
    "original_spc = sp.io.loadmat(SPC_PATH)[\"im\"]\n",
    "original_spc[:, :, 0, 0] = original_spc[:, :, 1, 0]\n",
    "\n",
    "original_t = np.squeeze(sp.io.loadmat(SPC_PATH)[\"t\"])\n",
    "lam = np.squeeze(sp.io.loadmat(LAMBDA_PATH)[\"lambda\"])\n"
   ]
  },
  {
   "cell_type": "markdown",
   "id": "6294f4348d110a72",
   "metadata": {},
   "source": [
    "## Time binning and initial plots"
   ]
  },
  {
   "cell_type": "code",
   "execution_count": null,
   "id": "266943b6d4bd5847",
   "metadata": {
    "ExecuteTime": {
     "end_time": "2024-07-03T14:55:22.270393Z",
     "start_time": "2024-07-03T14:55:21.694044Z"
    }
   },
   "outputs": [],
   "source": [
    "# cut the time (first)\n",
    "curve = np.squeeze(np.sum(original_spc, axis=(1, 2, 3)))\n",
    "val = np.max(curve)\n",
    "pos_max = np.argmax(curve)\n",
    "curve = curve[pos_max:]\n",
    "# b = np.argmin(abs(curve - curve[0] * (1 - np.exp(-1 / 1))))\n",
    "b = 512\n",
    "\n",
    "spc = original_spc[pos_max: (pos_max + b)]\n",
    "t = original_t[pos_max: (pos_max + b)]\n",
    "\n",
    "# data binning (after cut)\n",
    "t, spc, dt = bin_data(spc, t, 0.1)\n",
    "spc = spc / np.max(spc)\n",
    "\n",
    "time_decay = np.mean(spc, axis=(1, 2, 3))\n",
    "\n",
    "_, ax = plt.subplots(1, 2, figsize=(10, 5))\n",
    "ax[0].plot(t, time_decay)\n",
    "ax[0].set_title(f\"Global time decay - {len(t)} temporal points\")\n",
    "ax[0].set_xlabel(\"Time [ns]\")\n",
    "ax[0].grid()\n",
    "\n",
    "ax[1].plot(lam, spc.mean(axis=(0, 2, 3)))\n",
    "ax[1].set_title(f\"Global spectrum - {len(lam)} channels\")\n",
    "ax[1].set_xlabel(\"Wavelength [nm]\")\n",
    "ax[1].grid()\n",
    "\n",
    "plt.tight_layout()\n",
    "plt.show()"
   ]
  },
  {
   "cell_type": "code",
   "execution_count": null,
   "id": "5760706b",
   "metadata": {},
   "outputs": [],
   "source": [
    "initial_spectrums = np.mean(spc, axis=(0))\n",
    "min_spectrums, max_spectrums = np.min(initial_spectrums), np.max(initial_spectrums)\n",
    "\n",
    "initial_times = np.mean(spc, axis=(1))\n",
    "min_times, max_times = np.min(initial_times), np.max(initial_times)\n",
    "\n",
    "def spc_spectrum_time_in_a_point(i=0, j=0, z=0):\n",
    "    _, ax = plt.subplots(1, 4, figsize=(16, 4))\n",
    "    ax[0].imshow(cmos[z], cmap=\"gray\", vmin=0, vmax=1)\n",
    "    ax[0].set_title(f\"CMOS in {z}\")\n",
    "\n",
    "    ax[1].imshow(hyperspectral2RGB(lam, spc.mean(axis=0)))\n",
    "    ax[1].scatter([j], [i], c=\"b\")\n",
    "    ax[1].set_title(f\"Colored with spectrum\")\n",
    "    \n",
    "    ax[2].plot(lam, initial_spectrums[:, i, j])\n",
    "    ax[2].set_ylim(min_spectrums, max_spectrums)\n",
    "    ax[2].set_title(f\"Spectrum in ({i},{j})\")\n",
    "    ax[2].grid()\n",
    "    \n",
    "    ax[3].plot(t, initial_times[:, i, j])\n",
    "    ax[3].set_ylim(min_times, max_times)\n",
    "    ax[3].set_title(f\"Time in ({i},{j})\")\n",
    "    ax[3].grid()\n",
    "\n",
    "    plt.tight_layout()\n",
    "    plt.show()\n",
    "    \n",
    "interact(spc_spectrum_time_in_a_point, i=(0, spc.shape[-2] - 1, 1), j=(0, spc.shape[-1] - 1, 1), z=(0, cmos.shape[0] - 1, 1));"
   ]
  },
  {
   "cell_type": "markdown",
   "id": "5fb65791c7190e5a",
   "metadata": {},
   "source": [
    "## Fusion through optimization"
   ]
  },
  {
   "cell_type": "code",
   "execution_count": null,
   "id": "5e5580715016f98b",
   "metadata": {
    "ExecuteTime": {
     "end_time": "2024-07-03T14:57:35.285869Z",
     "start_time": "2024-07-03T14:55:31.920083Z"
    }
   },
   "outputs": [],
   "source": [
    "weights = (1,1,3,1)\n",
    "x = optimize(spc=spc, cmos=cmos, lr=0.1 ,iterations=60, weights=weights)\n",
    "x = x.cpu().detach().numpy()"
   ]
  },
  {
   "cell_type": "markdown",
   "id": "e4922676551d4dd5",
   "metadata": {},
   "source": [
    "## Visualize results"
   ]
  },
  {
   "cell_type": "code",
   "execution_count": null,
   "id": "a0aaae3791fb86c9",
   "metadata": {
    "ExecuteTime": {
     "end_time": "2024-07-03T14:59:13.871204Z",
     "start_time": "2024-07-03T14:59:13.008778Z"
    }
   },
   "outputs": [],
   "source": [
    "slices_rgb = hyperspectral2RGBvolume(lam, np.mean(x, axis=0))\n",
    "\n",
    "means_spectrums = np.mean(x, axis=(0, 3, 4)).T\n",
    "min_mean_spectrum = np.min(means_spectrums)\n",
    "max_mean_spectrum = np.max(means_spectrums)\n",
    "\n",
    "means_times = np.mean(x, axis=(1, 3, 4)).T\n",
    "min_mean_times = np.min(means_times)\n",
    "max_mean_times = np.max(means_times)\n",
    "\n",
    "zxy = np.sum(x, axis=(0, 1))\n",
    "zxy /= zxy.max()\n",
    "\n",
    "def plot_across_z(index_z=0):\n",
    "    _, ax = plt.subplots(2, 2, figsize=(8, 8))\n",
    "    ax[0, 0].imshow(zxy[index_z], cmap=\"gray\", vmin=0, vmax=1)\n",
    "    ax[0, 0].set_title(f\"Fused image, z={index_z}\")\n",
    "\n",
    "    ax[0, 1].imshow(slices_rgb[index_z])\n",
    "    ax[0, 1].set_title(f\"Colored with spectrum\")\n",
    "\n",
    "    ax[1, 0].plot(lam, means_spectrums[index_z])\n",
    "    ax[1, 0].set_ylim(min_mean_spectrum, max_mean_spectrum)\n",
    "    ax[1, 0].set_title(f\"Fused Spectrum, z={index_z}\")\n",
    "    ax[1, 0].grid()\n",
    "\n",
    "    ax[1, 1].plot(t, means_times[index_z])\n",
    "    ax[1, 1].set_ylim(min_mean_times, max_mean_times)\n",
    "    ax[1, 1].set_title(f\"Fused Time, z={index_z}\")\n",
    "    ax[1, 1].grid()\n",
    "\n",
    "    plt.tight_layout()\n",
    "    plt.show()\n",
    "\n",
    "\n",
    "interact(plot_across_z, index_z=(0, len(zxy) - 1, 1));"
   ]
  },
  {
   "cell_type": "code",
   "execution_count": null,
   "id": "34ef1d869325a74c",
   "metadata": {
    "ExecuteTime": {
     "end_time": "2024-07-03T15:20:15.906093Z",
     "start_time": "2024-07-03T15:20:15.528586Z"
    }
   },
   "outputs": [],
   "source": [
    "reconstructed_spectrums = np.mean(x, axis=(0, 2))\n",
    "min_spectrums, max_spectrums = np.min(reconstructed_spectrums), np.max(reconstructed_spectrums)\n",
    "\n",
    "reconstructed_times = np.mean(x, axis=(1, 2))\n",
    "min_times, max_times = np.min(reconstructed_times), np.max(reconstructed_times)\n",
    "\n",
    "def reconstructed_spectrum_time_in_a_point(i=0, j=0):\n",
    "    _, ax = plt.subplots(1, 3, figsize=(12, 4))\n",
    "    z_index = np.argmax(means_spectrums.mean(axis=1))\n",
    "    ax[0].imshow(slices_rgb[z_index])\n",
    "    ax[0].scatter([j], [i], c=\"b\")\n",
    "    ax[0].set_title(f\"Colored with spectrum\")\n",
    "    \n",
    "    ax[1].plot(lam, reconstructed_spectrums[:, i, j])\n",
    "    ax[1].set_title(f\"Spectrum in ({i},{j})\")\n",
    "    ax[1].set_ylim(min_spectrums, max_spectrums)\n",
    "    ax[1].grid()\n",
    "    \n",
    "    ax[2].plot(t, reconstructed_times[:, i, j])\n",
    "    ax[2].set_title(f\"Time in ({i},{j})\")\n",
    "    ax[2].set_ylim(min_times, max_times)\n",
    "    ax[2].grid()\n",
    "    \n",
    "    plt.tight_layout()\n",
    "    plt.show()\n",
    "    \n",
    "interact(reconstructed_spectrum_time_in_a_point, i=(0, x.shape[-2], 1), j=(0, x.shape[-1], 1));"
   ]
  },
  {
   "cell_type": "markdown",
   "id": "f30a9da7",
   "metadata": {},
   "source": [
    "## Save data"
   ]
  },
  {
   "cell_type": "code",
   "execution_count": null,
   "id": "984cfecb",
   "metadata": {},
   "outputs": [],
   "source": [
    "SAVE_PATH = RESOURCES_PATH / \"520_kidney2_550_550_610_SPC_raw_proc_tlxy_fused\"\n",
    "np.savez(SAVE_PATH, x=x, t=t, lam=lam, weights=weights)"
   ]
  }
 ],
 "metadata": {
  "kernelspec": {
   "display_name": "Python 3",
   "language": "python",
   "name": "python3"
  },
  "language_info": {
   "codemirror_mode": {
    "name": "ipython",
    "version": 3
   },
   "file_extension": ".py",
   "mimetype": "text/x-python",
   "name": "python",
   "nbconvert_exporter": "python",
   "pygments_lexer": "ipython3",
   "version": "3.12.0"
  }
 },
 "nbformat": 4,
 "nbformat_minor": 5
}
